{
 "cells": [
  {
   "cell_type": "code",
   "execution_count": null,
   "id": "initial_id",
   "metadata": {
    "collapsed": true
   },
   "outputs": [],
   "source": [
    "# p5735\n",
    "import math\n",
    "sum = 0\n",
    "x1,y1 = map(float,input().split())\n",
    "x2,y2 = map(float,input().split())\n",
    "x3,y3 = map(float,input().split())\n",
    "sum += math.sqrt((x2-x1)**2+(y2-y1)**2)\n",
    "sum += math.sqrt((x2-x3)**2+(y2-y3)**2)\n",
    "sum += math.sqrt((x3-x1)**2+(y3-y1)**2)\n",
    "print('%.2f'%sum)"
   ]
  },
  {
   "metadata": {},
   "cell_type": "code",
   "outputs": [],
   "execution_count": null,
   "source": [
    "# p5736\n",
    "def f(n):\n",
    "    if n<= 1:\n",
    "        return False\n",
    "    for i in range(2,n):\n",
    "        if n % i == 0:\n",
    "            return False\n",
    "    return True\n",
    "n = int(input())\n",
    "li = list(map(int,input().split()))\n",
    "for i in range(len(li) - 1, -1, -1):\n",
    "    if f(li[i]) == False:\n",
    "        li.pop(i)\n",
    "print(' '.join(map(str, li)))"
   ],
   "id": "b38a9f01e4acdb73"
  },
  {
   "metadata": {},
   "cell_type": "code",
   "outputs": [],
   "execution_count": null,
   "source": [
    "# p5737\n",
    "def f(n):\n",
    "    global sum\n",
    "    if (n % 4 == 0 and n % 100 != 0) or (n % 400 == 0):\n",
    "        li.append(n)\n",
    "        sum+=1\n",
    "    return sum\n",
    "x,y = map(int,input().split())\n",
    "sum = 0\n",
    "li = []\n",
    "for i in range(x,y+1):\n",
    "    sum = f(i)\n",
    "print(sum)\n",
    "print(' '.join(map(str,li)))"
   ],
   "id": "4d3349bb7589fa4c"
  },
  {
   "metadata": {},
   "cell_type": "code",
   "outputs": [],
   "execution_count": null,
   "source": [
    "# f5738\n",
    "def f(n):\n",
    "    li.remove(max(li))\n",
    "    li.remove(min(li))\n",
    "    return sum(li)/len(li)\n",
    "n,m = map(int,input().split())\n",
    "ans = 0\n",
    "for i in range(n):\n",
    "    li = list(map(int,input().split()))\n",
    "    x = f(n)\n",
    "    if x>ans:\n",
    "        ans = x\n",
    "print('%.2f'%ans)"
   ],
   "id": "2c59e41b0eda95dd"
  },
  {
   "metadata": {},
   "cell_type": "code",
   "outputs": [],
   "execution_count": null,
   "source": [
    "# p5739\n",
    "def f(n):\n",
    "    if n == 0 or n == 1:\n",
    "        return 1\n",
    "    else:\n",
    "        return n*f(n-1)\n",
    "n = int(input())\n",
    "print(f(n))"
   ],
   "id": "b4f6abf8f122ef41"
  },
  {
   "metadata": {},
   "cell_type": "code",
   "outputs": [],
   "execution_count": null,
   "source": [
    "# p5740\n",
    "def f(n):\n",
    "    global sum\n",
    "    lic = li.copy()\n",
    "    lic.pop(0)\n",
    "    # print(lic)\n",
    "    for i in lic:\n",
    "        i = int(i)\n",
    "        sum+=i\n",
    "    return sum\n",
    "\n",
    "ans = 0\n",
    "cnt = 0\n",
    "n = int(input())\n",
    "a = []\n",
    "for i in range(n):\n",
    "    sum = 0\n",
    "    li = list(map(str,input().split()))\n",
    "    a.append(li)\n",
    "    x = f(li)\n",
    "    # print(x)\n",
    "    if x>ans:\n",
    "        ans = x\n",
    "        cnt = i\n",
    "    # print(cnt)\n",
    "print(' '.join(map(str,a[cnt])))"
   ],
   "id": "113dadee4b1b8271"
  },
  {
   "metadata": {},
   "cell_type": "code",
   "outputs": [],
   "execution_count": null,
   "source": [
    "# p5741\n",
    "def are_competitive_students(student1, student2):\n",
    "    # 检查每一科成绩的分差是否都不大于5\n",
    "    for i in range(1, 4):\n",
    "        if abs(student1[i] - student2[i]) > 5:\n",
    "            return False\n",
    "    # 检查总分分差是否不大于10\n",
    "    total_diff = abs(sum(student1[1:]) - sum(student2[1:]))\n",
    "    return total_diff <= 10\n",
    "\n",
    "n = int(input())\n",
    "students = []\n",
    "\n",
    "for _ in range(n):\n",
    "    data = input().split()\n",
    "    name = data[0]\n",
    "    scores = list(map(int, data[1:]))\n",
    "    students.append([name] + scores)\n",
    "\n",
    "students.sort(key=lambda x: x[0])\n",
    "\n",
    "for i in range(n):\n",
    "    for j in range(i + 1, n):\n",
    "        if are_competitive_students(students[i], students[j]):\n",
    "            print(students[i][0], students[j][0])"
   ],
   "id": "be432d7582de74bf"
  },
  {
   "metadata": {},
   "cell_type": "code",
   "outputs": [],
   "execution_count": null,
   "source": [
    "class Student:\n",
    "    def __init__(self,number,a_score,b_score):\n",
    "        self.number = number\n",
    "        self.a_score = a_score\n",
    "        self.b_score = b_score\n",
    "\n",
    "n = int(input())\n",
    "for i in range(n):\n",
    "    n,a,b = map(int,input().split())\n",
    "    s = Student(n,a,b)\n",
    "    ans = a*7 + b*3\n",
    "    if (a+b) > 140 and ans >= 800:\n",
    "        print('Excellent')\n",
    "    else:\n",
    "        print('Not excellent')"
   ],
   "id": "d3ac86b0da215cae"
  },
  {
   "metadata": {},
   "cell_type": "code",
   "outputs": [],
   "execution_count": null,
   "source": [
    "# p1075\n",
    "n = int(input())\n",
    "for i in range(2,n+1):\n",
    "    if n%i==0:\n",
    "        print(n//i)\n",
    "        break"
   ],
   "id": "9ad6ec6d109883a3"
  },
  {
   "metadata": {},
   "cell_type": "code",
   "outputs": [],
   "execution_count": null,
   "source": [
    "# p1304\n",
    "def is_prime(n):\n",
    "    \"\"\"检查一个数是否是质数\"\"\"\n",
    "    if n <= 1:\n",
    "        return False\n",
    "    for i in range(2, int(n**0.5) + 1):\n",
    "        if n % i == 0:\n",
    "            return False\n",
    "    return True\n",
    "def g(N):\n",
    "    \"\"\"验证哥德巴赫猜想\"\"\"\n",
    "    results = []\n",
    "    for even in range(4, N+1, 2):\n",
    "        for prime in range(2, even//2 + 1):\n",
    "            if is_prime(prime) and is_prime(even - prime):\n",
    "                results.append((even, prime, even - prime))\n",
    "                break\n",
    "    return results\n",
    "\n",
    "n = int(input())\n",
    "ans = [f\"{even}={prime}+{even-prime}\" for even, prime, _ in g(n)]\n",
    "ans = \"\\n\".join(ans)\n",
    "print(ans)"
   ],
   "id": "f395d37f68c8cdc1"
  },
  {
   "metadata": {},
   "cell_type": "code",
   "outputs": [],
   "execution_count": null,
   "source": [
    "# p1217\n",
    "def is_prime(n):\n",
    "    \"\"\"检查一个数是否是质数\"\"\"\n",
    "    if n <= 1:\n",
    "        return False\n",
    "    for i in range(2, int(n**0.5) + 1):\n",
    "        if n % i == 0:\n",
    "            return False\n",
    "    return True\n",
    "\n",
    "a,b = map(int,input().split())\n",
    "for i in range(a,b+1):\n",
    "    if str(i) == str(i)[::-1] and is_prime(i):\n",
    "        print(i)"
   ],
   "id": "8eebc1813bd40922"
  },
  {
   "metadata": {},
   "cell_type": "code",
   "outputs": [],
   "execution_count": null,
   "source": [
    "# p2415\n",
    "def total_subset_sum(a):\n",
    "    n = len(a)\n",
    "    return sum(a) * (1 << (n - 1)) # 计算 sum(a) * 2^(n-1)\n",
    "\n",
    "a = list(map(int, input().split()))\n",
    "print(total_subset_sum(a))"
   ],
   "id": "4a195da0d6859141"
  },
  {
   "metadata": {},
   "cell_type": "code",
   "outputs": [],
   "execution_count": null,
   "source": [
    "# p5743\n",
    "x = 1\n",
    "n = int(input())\n",
    "for i in range(n-1):\n",
    "    x = 2 * (x + 1)\n",
    "print(x)"
   ],
   "id": "ee430d98cdeb695c"
  },
  {
   "metadata": {},
   "cell_type": "code",
   "outputs": [],
   "execution_count": null,
   "source": [
    "# p5744\n",
    "n = int(input())\n",
    "for i in range(n):\n",
    "    a,b,c = map(str,input().split())\n",
    "    b = int(b)\n",
    "    c = int(c)\n",
    "    b += 1\n",
    "    c = c*1.2\n",
    "    if c>=600:\n",
    "        c = 600\n",
    "    print(a,int(b),int(c))"
   ],
   "id": "f5c0325384e99b42"
  },
  {
   "metadata": {},
   "cell_type": "code",
   "outputs": [],
   "execution_count": null,
   "source": [
    "# p5461\n",
    "n = int(input())\n",
    "a = [[0 for _ in range(1025)] for _ in range(1025)]\n",
    "x = 1\n",
    "a[1][1], a[1][2], a[2][1], a[2][2] = 0, 1, 1, 1\n",
    "\n",
    "while n > 1:\n",
    "    x <<= 1\n",
    "    for i in range(1, x + 1):\n",
    "        for j in range(1, x + 1):\n",
    "            a[i + x][j + x] = a[i][j + x] = a[i + x][j] = a[i][j]\n",
    "            a[i][j] = 0\n",
    "    n -= 1\n",
    "\n",
    "for i in range(1, (x << 1) + 1):\n",
    "    for j in range(1, (x << 1) + 1):\n",
    "        print(a[i][j], end=' ')\n",
    "    print()"
   ],
   "id": "dcdd69838657c6f6"
  }
 ],
 "metadata": {
  "kernelspec": {
   "display_name": "Python 3",
   "language": "python",
   "name": "python3"
  },
  "language_info": {
   "codemirror_mode": {
    "name": "ipython",
    "version": 2
   },
   "file_extension": ".py",
   "mimetype": "text/x-python",
   "name": "python",
   "nbconvert_exporter": "python",
   "pygments_lexer": "ipython2",
   "version": "2.7.6"
  }
 },
 "nbformat": 4,
 "nbformat_minor": 5
}

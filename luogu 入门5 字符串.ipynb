{
 "cells": [
  {
   "cell_type": "code",
   "execution_count": null,
   "id": "initial_id",
   "metadata": {
    "collapsed": true
   },
   "outputs": [],
   "source": [
    "# p5733\n",
    "print(input().upper())"
   ]
  },
  {
   "metadata": {},
   "cell_type": "code",
   "outputs": [],
   "execution_count": null,
   "source": [
    "# p1914\n",
    "n = int(input())\n",
    "a = input()\n",
    "ans = []\n",
    "for i in a:\n",
    "    ans.append(chr((ord(i)-ord('a')+n) % 26+ord('a')))\n",
    "print(''.join(ans))"
   ],
   "id": "6a750258c3e77edc"
  },
  {
   "metadata": {},
   "cell_type": "code",
   "outputs": [],
   "execution_count": null,
   "source": [
    "# p1125\n",
    "from collections import Counter\n",
    "def is_prime(n):\n",
    "    if n <= 1:\n",
    "        return False\n",
    "    for i in range(2, int(n**0.5) + 1):\n",
    "        if n % i == 0:\n",
    "            return False\n",
    "    return True\n",
    "s = input()\n",
    "x = max(Counter(s).values()) - min(Counter(s).values())\n",
    "if is_prime(x):\n",
    "    print('Lucky Word')\n",
    "    print(x)\n",
    "else:\n",
    "    print('No Answer')\n",
    "    print('0')"
   ],
   "id": "b09bacaf44a1e42d"
  },
  {
   "metadata": {},
   "cell_type": "code",
   "outputs": [],
   "execution_count": null,
   "source": [
    "# p1957\n",
    "i = int(input())\n",
    "last_operator = None\n",
    "for _ in range(i):\n",
    "    inputs = input().split()\n",
    "    if len(inputs) == 3:\n",
    "        operator = inputs[0]\n",
    "        last_operator = operator\n",
    "        num1, num2 = int(inputs[1]), int(inputs[2])\n",
    "    elif len(inputs) == 2:\n",
    "        operator = last_operator\n",
    "        num1, num2 = int(inputs[0]), int(inputs[1])\n",
    "    if operator == 'a':\n",
    "        result = num1 + num2\n",
    "        ans = f'{num1}+{num2}={result}'\n",
    "    elif operator == 'b':\n",
    "        result = num1 - num2\n",
    "        ans = f'{num1}-{num2}={result}'\n",
    "    elif operator == 'c':\n",
    "        result = num1 * num2\n",
    "        ans = f'{num1}*{num2}={result}'\n",
    "    print(ans)\n",
    "    print(len(ans))"
   ],
   "id": "864d2bf022c23aad"
  },
  {
   "metadata": {},
   "cell_type": "code",
   "outputs": [],
   "execution_count": null,
   "source": [
    "# p5015\n",
    "i = (input().replace(\" \", \"\").replace(\"\\n\", \"\"))\n",
    "print(len(i))"
   ],
   "id": "e2bfd6d21b1246d2"
  },
  {
   "metadata": {},
   "cell_type": "code",
   "outputs": [],
   "execution_count": null,
   "source": [
    "# p5734\n",
    "q = int(input())\n",
    "s = input()\n",
    "for i in range(q):\n",
    "    x = input().split()\n",
    "    if x[0] == '1':\n",
    "        s += x[1]\n",
    "        print(s)\n",
    "    elif x[0] == '2':\n",
    "        a = int(x[1])\n",
    "        b = int(x[2])\n",
    "        s = s[a:a+b]  \n",
    "        print(s)\n",
    "    elif x[0] == '3':\n",
    "        a = int(x[1])\n",
    "        s = s[:a] + x[2] + s[a:]\n",
    "        print(s)\n",
    "    elif x[0] == '4':\n",
    "        position = s.find(x[1])\n",
    "        if position != -1:\n",
    "            print(position)\n",
    "        else:\n",
    "            print('-1')"
   ],
   "id": "12d41a8f0bb61abe"
  },
  {
   "metadata": {},
   "cell_type": "code",
   "outputs": [],
   "execution_count": null,
   "source": [
    "# p1308\n",
    "def find_word_in_text(word, text):\n",
    "    text_lower = text.lower()\n",
    "    word_lower = word.lower()\n",
    "    words = text.split()\n",
    "    count = 0\n",
    "    first_position = -1\n",
    "    for i, w in enumerate(words):\n",
    "        if w.lower() == word_lower:\n",
    "            count += 1\n",
    "            if first_position == -1:\n",
    "                first_position = text_lower.find(word_lower)\n",
    "\n",
    "    if count > 0:\n",
    "        return [str(count), str(first_position)]\n",
    "    else:\n",
    "        return ['-1']\n",
    "\n",
    "a = input()\n",
    "b = input()\n",
    "ans = find_word_in_text(a, b)\n",
    "print(' '.join(ans))\n"
   ],
   "id": "d2bb6e56b99f5294"
  },
  {
   "metadata": {},
   "cell_type": "code",
   "outputs": [],
   "execution_count": null,
   "source": [
    "# p1765\n",
    "def calculate_key_presses(sentence):\n",
    "    key_map = {\n",
    "        'a': 1, 'b': 2, 'c': 3, 'd': 1, 'e': 2, 'f': 3,\n",
    "        'g': 1, 'h': 2, 'i': 3, 'j': 1, 'k': 2, 'l': 3,\n",
    "        'm': 1, 'n': 2, 'o': 3, 'p': 1, 'q': 2, 'r': 3, 's': 4,\n",
    "        't': 1, 'u': 2, 'v': 3, 'w': 1, 'x': 2, 'y': 3, 'z': 4, ' ': 1\n",
    "    }\n",
    "    total_presses = 0\n",
    "    for char in sentence:\n",
    "        total_presses += int(key_map[char])\n",
    "    return total_presses\n",
    "\n",
    "input_sentence = input()\n",
    "output_presses = calculate_key_presses(input_sentence)\n",
    "print(output_presses)"
   ],
   "id": "fb2f1848c933eb09"
  },
  {
   "metadata": {},
   "cell_type": "code",
   "outputs": [],
   "execution_count": null,
   "source": [
    "# p3741      \n",
    "def max_vk_occurrences(n, s):\n",
    "    initial_vk_count = s.count(\"VK\")\n",
    "    max_vk = initial_vk_count\n",
    "    for i in range(n):\n",
    "        for char in \"VK\":\n",
    "            new_s = s[:i] + char + s[i + 1:]\n",
    "            new_vk_count = new_s.count(\"VK\")\n",
    "            max_vk = max(max_vk, new_vk_count)\n",
    "\n",
    "    return max_vk\n",
    "\n",
    "n = int(input())\n",
    "s = input()\n",
    "print(max_vk_occurrences(n, s))"
   ],
   "id": "7bb1959d0babf213"
  },
  {
   "metadata": {},
   "cell_type": "code",
   "outputs": [],
   "execution_count": null,
   "source": [
    "# p1321\n",
    "s = list(input())\n",
    "boy = 0\n",
    "girl = 0\n",
    "for i in range(len(s)-2):\n",
    "    if s[i] == 'b' or s[i+1] == 'o' or s[i+2] == 'y':\n",
    "        boy += 1\n",
    "for j in range(len(s)-3):\n",
    "    if s[j] == 'g' or s[j+1] == 'i' or s[j+2] == 'r' or s[j+3] == 'l':\n",
    "        girl += 1\n",
    "print(boy)\n",
    "print(girl)"
   ],
   "id": "aefd482b486941a3"
  }
 ],
 "metadata": {
  "kernelspec": {
   "display_name": "Python 3",
   "language": "python",
   "name": "python3"
  },
  "language_info": {
   "codemirror_mode": {
    "name": "ipython",
    "version": 2
   },
   "file_extension": ".py",
   "mimetype": "text/x-python",
   "name": "python",
   "nbconvert_exporter": "python",
   "pygments_lexer": "ipython2",
   "version": "2.7.6"
  }
 },
 "nbformat": 4,
 "nbformat_minor": 5
}
